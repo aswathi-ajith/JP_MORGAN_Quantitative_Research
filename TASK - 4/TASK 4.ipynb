{
 "cells": [
  {
   "cell_type": "markdown",
   "id": "116bcf7b",
   "metadata": {},
   "source": [
    "## ASWATHI AJITH"
   ]
  },
  {
   "cell_type": "markdown",
   "id": "6eaa17cd",
   "metadata": {},
   "source": [
    "### TASK - 4\n"
   ]
  },
  {
   "cell_type": "markdown",
   "id": "e45c5181",
   "metadata": {},
   "source": [
    "### Bucket FICO scores"
   ]
  },
  {
   "cell_type": "markdown",
   "id": "28d7794a",
   "metadata": {},
   "source": [
    "This task focuses on transforming FICO scores (ranging from 300 to 850) into buckets (categories) to be used in a machine learning model for predicting probability of default (PD). Since Charlie's model requires categorical inputs, we need a systematic approach to create these buckets.\n",
    "\n"
   ]
  },
  {
   "cell_type": "markdown",
   "id": "0509233b",
   "metadata": {},
   "source": [
    "FICO scores are continuous values, but Charlie’s model requires categorical inputs.\n",
    "Instead of treating each unique FICO score as a separate category, we group them into buckets based on credit risk."
   ]
  },
  {
   "cell_type": "markdown",
   "id": "b1fc0692",
   "metadata": {},
   "source": [
    "The process of dividing continuous data into discrete categories is called quantization.\n",
    "We want to find the best way to group FICO scores into a fixed number of buckets without losing too much information."
   ]
  },
  {
   "cell_type": "markdown",
   "id": "1abc64d8",
   "metadata": {},
   "source": [
    "The buckets should be meaningful—they should reflect the likelihood of default.\n",
    "We can optimize for:\n",
    "\n",
    "Mean Squared Error (MSE): Ensuring that scores in the same bucket are close to each other. Ensures that similar FICO scores are grouped together while keeping the overall error low.\n",
    "\n",
    "Log-Likelihood: Making sure that buckets reflect actual default probabilities.This method optimizes the buckets based on how well they predict default risk. This approach ensures that buckets maximize separation between high- and low-risk borrowers.\n",
    "\n"
   ]
  },
  {
   "cell_type": "code",
   "execution_count": 1,
   "id": "6794b7f0",
   "metadata": {},
   "outputs": [],
   "source": [
    "import pandas as pd\n",
    "import numpy as np\n",
    "import matplotlib.pyplot as plt\n",
    "from scipy.stats import binom"
   ]
  },
  {
   "cell_type": "code",
   "execution_count": 2,
   "id": "9b3c4144",
   "metadata": {},
   "outputs": [
    {
     "data": {
      "text/html": [
       "<div>\n",
       "<style scoped>\n",
       "    .dataframe tbody tr th:only-of-type {\n",
       "        vertical-align: middle;\n",
       "    }\n",
       "\n",
       "    .dataframe tbody tr th {\n",
       "        vertical-align: top;\n",
       "    }\n",
       "\n",
       "    .dataframe thead th {\n",
       "        text-align: right;\n",
       "    }\n",
       "</style>\n",
       "<table border=\"1\" class=\"dataframe\">\n",
       "  <thead>\n",
       "    <tr style=\"text-align: right;\">\n",
       "      <th></th>\n",
       "      <th>customer_id</th>\n",
       "      <th>credit_lines_outstanding</th>\n",
       "      <th>loan_amt_outstanding</th>\n",
       "      <th>total_debt_outstanding</th>\n",
       "      <th>income</th>\n",
       "      <th>years_employed</th>\n",
       "      <th>fico_score</th>\n",
       "      <th>default</th>\n",
       "    </tr>\n",
       "  </thead>\n",
       "  <tbody>\n",
       "    <tr>\n",
       "      <th>0</th>\n",
       "      <td>8153374</td>\n",
       "      <td>0</td>\n",
       "      <td>5221.545193</td>\n",
       "      <td>3915.471226</td>\n",
       "      <td>78039.38546</td>\n",
       "      <td>5</td>\n",
       "      <td>605</td>\n",
       "      <td>0</td>\n",
       "    </tr>\n",
       "    <tr>\n",
       "      <th>1</th>\n",
       "      <td>7442532</td>\n",
       "      <td>5</td>\n",
       "      <td>1958.928726</td>\n",
       "      <td>8228.752520</td>\n",
       "      <td>26648.43525</td>\n",
       "      <td>2</td>\n",
       "      <td>572</td>\n",
       "      <td>1</td>\n",
       "    </tr>\n",
       "    <tr>\n",
       "      <th>2</th>\n",
       "      <td>2256073</td>\n",
       "      <td>0</td>\n",
       "      <td>3363.009259</td>\n",
       "      <td>2027.830850</td>\n",
       "      <td>65866.71246</td>\n",
       "      <td>4</td>\n",
       "      <td>602</td>\n",
       "      <td>0</td>\n",
       "    </tr>\n",
       "    <tr>\n",
       "      <th>3</th>\n",
       "      <td>4885975</td>\n",
       "      <td>0</td>\n",
       "      <td>4766.648001</td>\n",
       "      <td>2501.730397</td>\n",
       "      <td>74356.88347</td>\n",
       "      <td>5</td>\n",
       "      <td>612</td>\n",
       "      <td>0</td>\n",
       "    </tr>\n",
       "    <tr>\n",
       "      <th>4</th>\n",
       "      <td>4700614</td>\n",
       "      <td>1</td>\n",
       "      <td>1345.827718</td>\n",
       "      <td>1768.826187</td>\n",
       "      <td>23448.32631</td>\n",
       "      <td>6</td>\n",
       "      <td>631</td>\n",
       "      <td>0</td>\n",
       "    </tr>\n",
       "  </tbody>\n",
       "</table>\n",
       "</div>"
      ],
      "text/plain": [
       "   customer_id  credit_lines_outstanding  loan_amt_outstanding  \\\n",
       "0      8153374                         0           5221.545193   \n",
       "1      7442532                         5           1958.928726   \n",
       "2      2256073                         0           3363.009259   \n",
       "3      4885975                         0           4766.648001   \n",
       "4      4700614                         1           1345.827718   \n",
       "\n",
       "   total_debt_outstanding       income  years_employed  fico_score  default  \n",
       "0             3915.471226  78039.38546               5         605        0  \n",
       "1             8228.752520  26648.43525               2         572        1  \n",
       "2             2027.830850  65866.71246               4         602        0  \n",
       "3             2501.730397  74356.88347               5         612        0  \n",
       "4             1768.826187  23448.32631               6         631        0  "
      ]
     },
     "execution_count": 2,
     "metadata": {},
     "output_type": "execute_result"
    }
   ],
   "source": [
    "fico_df = pd.read_csv(\"Downloads/Task 3 and 4_Loan_Data.csv\")\n",
    "fico_df.head()"
   ]
  },
  {
   "cell_type": "code",
   "execution_count": 3,
   "id": "2af55ec6",
   "metadata": {},
   "outputs": [
    {
     "data": {
      "text/html": [
       "<div>\n",
       "<style scoped>\n",
       "    .dataframe tbody tr th:only-of-type {\n",
       "        vertical-align: middle;\n",
       "    }\n",
       "\n",
       "    .dataframe tbody tr th {\n",
       "        vertical-align: top;\n",
       "    }\n",
       "\n",
       "    .dataframe thead th {\n",
       "        text-align: right;\n",
       "    }\n",
       "</style>\n",
       "<table border=\"1\" class=\"dataframe\">\n",
       "  <thead>\n",
       "    <tr style=\"text-align: right;\">\n",
       "      <th></th>\n",
       "      <th>customer_id</th>\n",
       "      <th>credit_lines_outstanding</th>\n",
       "      <th>loan_amt_outstanding</th>\n",
       "      <th>total_debt_outstanding</th>\n",
       "      <th>income</th>\n",
       "      <th>years_employed</th>\n",
       "      <th>fico_score</th>\n",
       "      <th>default</th>\n",
       "      <th>bucket</th>\n",
       "    </tr>\n",
       "  </thead>\n",
       "  <tbody>\n",
       "    <tr>\n",
       "      <th>0</th>\n",
       "      <td>8153374</td>\n",
       "      <td>0</td>\n",
       "      <td>5221.545193</td>\n",
       "      <td>3915.471226</td>\n",
       "      <td>78039.38546</td>\n",
       "      <td>5</td>\n",
       "      <td>605</td>\n",
       "      <td>0</td>\n",
       "      <td>4</td>\n",
       "    </tr>\n",
       "    <tr>\n",
       "      <th>1</th>\n",
       "      <td>7442532</td>\n",
       "      <td>5</td>\n",
       "      <td>1958.928726</td>\n",
       "      <td>8228.752520</td>\n",
       "      <td>26648.43525</td>\n",
       "      <td>2</td>\n",
       "      <td>572</td>\n",
       "      <td>1</td>\n",
       "      <td>3</td>\n",
       "    </tr>\n",
       "    <tr>\n",
       "      <th>2</th>\n",
       "      <td>2256073</td>\n",
       "      <td>0</td>\n",
       "      <td>3363.009259</td>\n",
       "      <td>2027.830850</td>\n",
       "      <td>65866.71246</td>\n",
       "      <td>4</td>\n",
       "      <td>602</td>\n",
       "      <td>0</td>\n",
       "      <td>4</td>\n",
       "    </tr>\n",
       "    <tr>\n",
       "      <th>3</th>\n",
       "      <td>4885975</td>\n",
       "      <td>0</td>\n",
       "      <td>4766.648001</td>\n",
       "      <td>2501.730397</td>\n",
       "      <td>74356.88347</td>\n",
       "      <td>5</td>\n",
       "      <td>612</td>\n",
       "      <td>0</td>\n",
       "      <td>4</td>\n",
       "    </tr>\n",
       "    <tr>\n",
       "      <th>4</th>\n",
       "      <td>4700614</td>\n",
       "      <td>1</td>\n",
       "      <td>1345.827718</td>\n",
       "      <td>1768.826187</td>\n",
       "      <td>23448.32631</td>\n",
       "      <td>6</td>\n",
       "      <td>631</td>\n",
       "      <td>0</td>\n",
       "      <td>5</td>\n",
       "    </tr>\n",
       "    <tr>\n",
       "      <th>...</th>\n",
       "      <td>...</td>\n",
       "      <td>...</td>\n",
       "      <td>...</td>\n",
       "      <td>...</td>\n",
       "      <td>...</td>\n",
       "      <td>...</td>\n",
       "      <td>...</td>\n",
       "      <td>...</td>\n",
       "      <td>...</td>\n",
       "    </tr>\n",
       "    <tr>\n",
       "      <th>9995</th>\n",
       "      <td>3972488</td>\n",
       "      <td>0</td>\n",
       "      <td>3033.647103</td>\n",
       "      <td>2553.733144</td>\n",
       "      <td>42691.62787</td>\n",
       "      <td>5</td>\n",
       "      <td>697</td>\n",
       "      <td>0</td>\n",
       "      <td>6</td>\n",
       "    </tr>\n",
       "    <tr>\n",
       "      <th>9996</th>\n",
       "      <td>6184073</td>\n",
       "      <td>1</td>\n",
       "      <td>4146.239304</td>\n",
       "      <td>5458.163525</td>\n",
       "      <td>79969.50521</td>\n",
       "      <td>8</td>\n",
       "      <td>615</td>\n",
       "      <td>0</td>\n",
       "      <td>4</td>\n",
       "    </tr>\n",
       "    <tr>\n",
       "      <th>9997</th>\n",
       "      <td>6694516</td>\n",
       "      <td>2</td>\n",
       "      <td>3088.223727</td>\n",
       "      <td>4813.090925</td>\n",
       "      <td>38192.67591</td>\n",
       "      <td>5</td>\n",
       "      <td>596</td>\n",
       "      <td>0</td>\n",
       "      <td>4</td>\n",
       "    </tr>\n",
       "    <tr>\n",
       "      <th>9998</th>\n",
       "      <td>3942961</td>\n",
       "      <td>0</td>\n",
       "      <td>3288.901666</td>\n",
       "      <td>1043.099660</td>\n",
       "      <td>50929.37206</td>\n",
       "      <td>2</td>\n",
       "      <td>647</td>\n",
       "      <td>0</td>\n",
       "      <td>5</td>\n",
       "    </tr>\n",
       "    <tr>\n",
       "      <th>9999</th>\n",
       "      <td>5533570</td>\n",
       "      <td>1</td>\n",
       "      <td>1917.652480</td>\n",
       "      <td>3050.248203</td>\n",
       "      <td>30611.62821</td>\n",
       "      <td>6</td>\n",
       "      <td>757</td>\n",
       "      <td>0</td>\n",
       "      <td>7</td>\n",
       "    </tr>\n",
       "  </tbody>\n",
       "</table>\n",
       "<p>10000 rows × 9 columns</p>\n",
       "</div>"
      ],
      "text/plain": [
       "      customer_id  credit_lines_outstanding  loan_amt_outstanding  \\\n",
       "0         8153374                         0           5221.545193   \n",
       "1         7442532                         5           1958.928726   \n",
       "2         2256073                         0           3363.009259   \n",
       "3         4885975                         0           4766.648001   \n",
       "4         4700614                         1           1345.827718   \n",
       "...           ...                       ...                   ...   \n",
       "9995      3972488                         0           3033.647103   \n",
       "9996      6184073                         1           4146.239304   \n",
       "9997      6694516                         2           3088.223727   \n",
       "9998      3942961                         0           3288.901666   \n",
       "9999      5533570                         1           1917.652480   \n",
       "\n",
       "      total_debt_outstanding       income  years_employed  fico_score  \\\n",
       "0                3915.471226  78039.38546               5         605   \n",
       "1                8228.752520  26648.43525               2         572   \n",
       "2                2027.830850  65866.71246               4         602   \n",
       "3                2501.730397  74356.88347               5         612   \n",
       "4                1768.826187  23448.32631               6         631   \n",
       "...                      ...          ...             ...         ...   \n",
       "9995             2553.733144  42691.62787               5         697   \n",
       "9996             5458.163525  79969.50521               8         615   \n",
       "9997             4813.090925  38192.67591               5         596   \n",
       "9998             1043.099660  50929.37206               2         647   \n",
       "9999             3050.248203  30611.62821               6         757   \n",
       "\n",
       "      default  bucket  \n",
       "0           0       4  \n",
       "1           1       3  \n",
       "2           0       4  \n",
       "3           0       4  \n",
       "4           0       5  \n",
       "...       ...     ...  \n",
       "9995        0       6  \n",
       "9996        0       4  \n",
       "9997        0       4  \n",
       "9998        0       5  \n",
       "9999        0       7  \n",
       "\n",
       "[10000 rows x 9 columns]"
      ]
     },
     "execution_count": 3,
     "metadata": {},
     "output_type": "execute_result"
    }
   ],
   "source": [
    "num_buckets = 10\n",
    "fico_df['bucket'] = pd.cut(fico_df['fico_score'], bins = num_buckets, labels= False )\n",
    "fico_df"
   ]
  },
  {
   "cell_type": "markdown",
   "id": "418c34fc",
   "metadata": {},
   "source": [
    "#### Initializing the log-likelihood function\n",
    "\n",
    "ki is the number of defaults.\n",
    "\n",
    "ni is the total number of customers.\n",
    "\n",
    "pi is the probability of default."
   ]
  },
  {
   "cell_type": "code",
   "execution_count": 4,
   "id": "29e3bac5",
   "metadata": {},
   "outputs": [],
   "source": [
    "\n",
    "def calculate_log_likelihood(fico_df):\n",
    "    log_likelihood = 0\n",
    "    for b in range(fico_df['bucket'].nunique()):\n",
    "        bucket_data = fico_df[fico_df['bucket'] == b]\n",
    "        ni = len(bucket_data)\n",
    "        ki = bucket_data['default'].sum()\n",
    "        if ni > 0 and 0 < ki < ni:  \n",
    "            pi = ki / ni\n",
    "            log_likelihood += binom.logpmf(ki, ni, pi)\n",
    "    return log_likelihood"
   ]
  },
  {
   "cell_type": "code",
   "execution_count": 5,
   "id": "48158b41",
   "metadata": {},
   "outputs": [
    {
     "name": "stdout",
     "output_type": "stream",
     "text": [
      "Initial bucket value -27.110121842193227\n"
     ]
    }
   ],
   "source": [
    "initial_log_likelihood = calculate_log_likelihood(fico_df)\n",
    "print(\"Initial bucket value\", initial_log_likelihood)"
   ]
  },
  {
   "cell_type": "code",
   "execution_count": 6,
   "id": "3699b171",
   "metadata": {},
   "outputs": [
    {
     "data": {
      "image/png": "[encoded data removed]",
      "text/plain": [
       "<Figure size 720x432 with 1 Axes>"
      ]
     },
     "metadata": {
      "needs_background": "light"
     },
     "output_type": "display_data"
    }
   ],
   "source": [
    "plt.figure(figsize=(10,6))\n",
    "for b in range(num_buckets):\n",
    "        bucket_value = fico_df[fico_df['bucket'] == b]\n",
    "        plt.scatter(bucket_value['fico_score'],bucket_value['default'], label = f\"Bucket {b}\" )\n",
    "plt.xlabel(\"FICO score\")\n",
    "plt.ylabel(\"default\")\n",
    "plt.title(\"Initial bucketing of FICO score\")\n",
    "plt.legend()\n",
    "plt.show()"
   ]
  },
  {
   "cell_type": "markdown",
   "id": "ce39239e",
   "metadata": {},
   "source": [
    "#### Bucket optimization"
   ]
  },
  {
   "cell_type": "code",
   "execution_count": 7,
   "id": "2f1fa01c",
   "metadata": {},
   "outputs": [],
   "source": [
    "# Now, instead of arbitarily choosing the num_buckets we should optimize it\n",
    "from sklearn.cluster import KMeans\n",
    "num_buckets = 10\n",
    "fico_scores = fico_df['fico_score'].values.reshape(-1, 1)  \n",
    "kmeans = KMeans(n_clusters = num_buckets, random_state = 43 )\n",
    "fico_df['kmeans_buckets'] = kmeans.fit_predict(fico_scores)\n",
    "# print(len(fico_df[fico_df['kmeans_buckets']==9]))"
   ]
  },
  {
   "cell_type": "code",
   "execution_count": 8,
   "id": "af49303e",
   "metadata": {},
   "outputs": [
    {
     "data": {
      "image/png": "[encoded data removed]",
      "text/plain": [
       "<Figure size 720x432 with 1 Axes>"
      ]
     },
     "metadata": {
      "needs_background": "light"
     },
     "output_type": "display_data"
    }
   ],
   "source": [
    "plt.figure(figsize=(10,6))\n",
    "for b in range(num_buckets):\n",
    "        bucket_value = fico_df[fico_df['kmeans_buckets'] == b]\n",
    "        plt.scatter(bucket_value['fico_score'],bucket_value['default'], label = f\"Bucket {b}\" )\n",
    "plt.xlabel(\"FICO score\")\n",
    "plt.ylabel(\"default\")\n",
    "plt.title(\"Initial bucketing of FICO score\")\n",
    "plt.legend()\n",
    "plt.show()"
   ]
  },
  {
   "cell_type": "code",
   "execution_count": null,
   "id": "7427cf4c",
   "metadata": {},
   "outputs": [],
   "source": []
  }
 ],
 "metadata": {
  "kernelspec": {
   "display_name": "Python 3 (ipykernel)",
   "language": "python",
   "name": "python3"
  },
  "language_info": {
   "codemirror_mode": {
    "name": "ipython",
    "version": 3
   },
   "file_extension": ".py",
   "mimetype": "text/x-python",
   "name": "python",
   "nbconvert_exporter": "python",
   "pygments_lexer": "ipython3",
   "version": "3.9.7"
  }
 },
 "nbformat": 4,
 "nbformat_minor": 5
}

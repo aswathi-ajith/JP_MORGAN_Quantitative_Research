{
 "cells": [
  {
   "cell_type": "markdown",
   "id": "803b6ae0",
   "metadata": {},
   "source": [
    "## ASWATHI AJITH"
   ]
  },
  {
   "cell_type": "markdown",
   "id": "d4ba2b13",
   "metadata": {},
   "source": [
    "### TASK 2"
   ]
  },
  {
   "cell_type": "markdown",
   "id": "94777479",
   "metadata": {},
   "source": [
    "### Price and commodity storage contract"
   ]
  },
  {
   "cell_type": "markdown",
   "id": "becf701d",
   "metadata": {},
   "source": [
    "####  Profit = Revenue from selling gas−(Purchase cost+Storage cost+Injection/withdrawal fees)"
   ]
  },
  {
   "cell_type": "markdown",
   "id": "ef4abb21",
   "metadata": {},
   "source": [
    "Function is to compute the value of a natural gas storage contract.\n",
    "\n",
    "    Parameters:\n",
    "    in_dates (list): List of injection dates.\n",
    "    in_prices (list): List of gas purchase prices on injection dates (Individual gas prices per unit on each injection date).\n",
    "    out_dates (list): List of withdrawal dates.\n",
    "    out_prices (list): List of gas sale prices on withdrawal dates.\n",
    "    rate (float): Injection/withdrawal rate (in MMBtu per day).\n",
    "    storage_cost_rate (float): Monthly storage cost ($).\n",
    "    max_storage_vol (float): Maximum storage volume (MMBtu).\n",
    "    injection_withdrawal_cost_rate (float): Cost per MMBtu for injection/withdrawal.\n",
    "    buying_cost : The total amount spent on buying and injecting gas over all injection dates\n",
    "    rate: The amount of gas injected or withdrawn per transaction.\n",
    "\n",
    "    Returns:\n",
    "    float: Net contract value (profit or loss).\n"
   ]
  },
  {
   "cell_type": "code",
   "execution_count": 11,
   "id": "4bc61d7d",
   "metadata": {},
   "outputs": [],
   "source": [
    "import numpy as np\n",
    "import math\n",
    "import pandas as pd\n",
    "from datetime import date"
   ]
  },
  {
   "cell_type": "code",
   "execution_count": 17,
   "id": "40a14591",
   "metadata": {},
   "outputs": [],
   "source": [
    "def contract_price(in_dates, out_dates, in_price, out_price, max_storage_vol, storage_price, rate, injection_withdrawal_price):\n",
    "    volume = 0 # current storage volume\n",
    "    buying_cost = 0 # Total cost of buying and storing gas\n",
    "    revenue = 0 # Revenue from selling gas\n",
    "    all_dates = sorted(set(in_dates + out_dates)) # in_date + out_date returns a concatenated dates\n",
    "    for current_date in all_dates:\n",
    "        if current_date in in_dates:\n",
    "            # to get the index of current_date\n",
    "            idx = in_dates.index(current_date)\n",
    "            if volume + rate <= max_storage_vol:\n",
    "                volume += rate\n",
    "                buying_cost = rate * in_price[idx] # Purchase cost\n",
    "                buying_cost = rate * injection_withdrawal_price # to add injection cost\n",
    "                print(f\"Injected {rate} MMBtu on {current_date} at ${in_price[idx]} per MMBtu, costing {buying_cost} totally for the injection\")\n",
    "            else: \n",
    "                print(f\" Cannot inject on {current_date}, as storage capacity has been reached.\")\n",
    "            \n",
    "        if current_date in out_dates:\n",
    "            idx = out_dates.index(current_date)\n",
    "            if volume >= rate: # rate is the amount of gas withdrawn per transaction here.\n",
    "            # If volume is greater than or equal to rate, withdrawal is possible\n",
    "                volume -= rate\n",
    "                revenue += rate * out_price[idx]\n",
    "                revenue -= rate * injection_withdrawal_price\n",
    "                print(f\"Withdrew {rate} MMBtu on {current_date} at ${out_price[idx]} per MMBtu\")\n",
    "            else:\n",
    "                print(f\" Cannot withdraw on {current_date}, insufficient gas in storage\" )\n",
    "   # Now, to get the total storage cost - based on the duration between the first injection and last withdrawal\n",
    "    days_stored = (max(out_dates) - max(in_dates)).days\n",
    "    storage_duration_months = np.ceil(days_stored / 30)\n",
    "    total_storage_cost = storage_duration_months * storage_price\n",
    "    # The contract price\n",
    "    contract_value = revenue - (buying_cost + total_storage_cost )\n",
    "    print(f\"Value of contract is {contract_value}\")\n",
    "    return "
   ]
  },
  {
   "cell_type": "code",
   "execution_count": 19,
   "id": "600ad24d",
   "metadata": {},
   "outputs": [
    {
     "name": "stdout",
     "output_type": "stream",
     "text": [
      "Injected 100000 MMBtu on 2022-01-01 at $20 per MMBtu, costing 50.0 totally for the injection\n",
      "Withdrew 100000 MMBtu on 2022-01-27 at $23 per MMBtu\n",
      "Injected 100000 MMBtu on 2022-02-01 at $21 per MMBtu, costing 50.0 totally for the injection\n",
      "Withdrew 100000 MMBtu on 2022-02-15 at $19 per MMBtu\n",
      "Injected 100000 MMBtu on 2022-02-21 at $20.5 per MMBtu, costing 50.0 totally for the injection\n",
      "Withdrew 100000 MMBtu on 2022-03-20 at $21 per MMBtu\n",
      "Injected 100000 MMBtu on 2022-04-01 at $22 per MMBtu, costing 50.0 totally for the injection\n",
      "Withdrew 100000 MMBtu on 2022-06-01 at $25 per MMBtu\n",
      "Value of contract is 8769750.0\n"
     ]
    }
   ],
   "source": [
    "contract_price(in_dates = [date(2022,1,1), date(2022,2,1), date(2022,2,21), date(2022,4,1)],\n",
    "                     out_dates = [date(2022, 1, 27), date(2022, 2, 15), date(2022, 3, 20), date(2022, 6, 1)], \n",
    "                     in_price = [20, 21, 20.5, 22], \n",
    "                     out_price = [23, 19, 21, 25], \n",
    "                     max_storage_vol = 500000, \n",
    "                     storage_price = 10000, \n",
    "                     rate = 100000, \n",
    "                     injection_withdrawal_price = 0.0005)"
   ]
  },
  {
   "cell_type": "code",
   "execution_count": null,
   "id": "65b29dd0",
   "metadata": {},
   "outputs": [],
   "source": []
  }
 ],
 "metadata": {
  "kernelspec": {
   "display_name": "Python 3 (ipykernel)",
   "language": "python",
   "name": "python3"
  },
  "language_info": {
   "codemirror_mode": {
    "name": "ipython",
    "version": 3
   },
   "file_extension": ".py",
   "mimetype": "text/x-python",
   "name": "python",
   "nbconvert_exporter": "python",
   "pygments_lexer": "ipython3",
   "version": "3.9.7"
  }
 },
 "nbformat": 4,
 "nbformat_minor": 5
}
